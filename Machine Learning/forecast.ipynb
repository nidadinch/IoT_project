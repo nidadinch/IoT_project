{
 "metadata": {
  "language_info": {
   "codemirror_mode": {
    "name": "ipython",
    "version": 3
   },
   "file_extension": ".py",
   "mimetype": "text/x-python",
   "name": "python",
   "nbconvert_exporter": "python",
   "pygments_lexer": "ipython3",
   "version": "3.9.5"
  },
  "orig_nbformat": 2,
  "kernelspec": {
   "name": "python395jvsc74a57bd08b03d4cd05d71d535371b426da57de743181e37d8974a9636efe6e78873daaed",
   "display_name": "Python 3.9.5 64-bit"
  },
  "metadata": {
   "interpreter": {
    "hash": "8b03d4cd05d71d535371b426da57de743181e37d8974a9636efe6e78873daaed"
   }
  }
 },
 "nbformat": 4,
 "nbformat_minor": 2,
 "cells": [
  {
   "cell_type": "code",
   "execution_count": 81,
   "metadata": {},
   "outputs": [],
   "source": [
    "import requests\n",
    "import calendar\n",
    "import matplotlib.pyplot as plt\n",
    "import pandas as pd "
   ]
  },
  {
   "cell_type": "code",
   "execution_count": 82,
   "metadata": {},
   "outputs": [],
   "source": [
    "api_key = 'ffd953bc651e3a0d51f559e3d8d5c7bd'\n",
    "api_call = 'https://api.openweathermap.org/data/2.5/forecast?appid=' + api_key"
   ]
  },
  {
   "cell_type": "code",
   "execution_count": 83,
   "metadata": {},
   "outputs": [],
   "source": [
    "temps_pred = []\n",
    "humidity_pred = []"
   ]
  },
  {
   "cell_type": "code",
   "execution_count": 84,
   "metadata": {},
   "outputs": [],
   "source": [
    "city = input('Please input the city name: ')\n",
    "api_call += '&q=' + city"
   ]
  },
  {
   "cell_type": "code",
   "execution_count": 85,
   "metadata": {},
   "outputs": [],
   "source": [
    "json_data = requests.get(api_call).json()"
   ]
  },
  {
   "cell_type": "code",
   "execution_count": 86,
   "metadata": {},
   "outputs": [],
   "source": [
    "location_data = {\n",
    "        'city': json_data['city']['name'],\n",
    "        'country': json_data['city']['country']\n",
    "    }"
   ]
  },
  {
   "cell_type": "code",
   "execution_count": 87,
   "metadata": {},
   "outputs": [
    {
     "output_type": "stream",
     "name": "stdout",
     "text": [
      "\nLondon, GB\n"
     ]
    }
   ],
   "source": [
    "print('\\n{city}, {country}'.format(**location_data))"
   ]
  },
  {
   "cell_type": "code",
   "execution_count": 88,
   "metadata": {},
   "outputs": [
    {
     "output_type": "stream",
     "name": "stdout",
     "text": [
      "\n06/07/2021\n\n6:00 AM\nCelcius: 14.36\nHumidity: 90.00\n\n9:00 AM\nCelcius: 15.94\nHumidity: 82.00\n\n12:00 PM\nCelcius: 19.51\nHumidity: 65.00\n\n3:00 PM\nCelcius: 20.14\nHumidity: 71.00\n\n6:00 PM\nCelcius: 18.72\nHumidity: 79.00\n\n9:00 PM\nCelcius: 15.81\nHumidity: 90.00\n\n06/08/2021\n\n12:00 AM\nCelcius: 14.26\nHumidity: 94.00\n\n3:00 AM\nCelcius: 12.47\nHumidity: 93.00\n\n6:00 AM\nCelcius: 13.28\nHumidity: 75.00\n\n9:00 AM\nCelcius: 17.99\nHumidity: 54.00\n\n12:00 PM\nCelcius: 21.27\nHumidity: 38.00\n\n3:00 PM\nCelcius: 22.20\nHumidity: 39.00\n\n6:00 PM\nCelcius: 20.71\nHumidity: 47.00\n\n9:00 PM\nCelcius: 16.82\nHumidity: 68.00\n\n06/09/2021\n\n12:00 AM\nCelcius: 15.08\nHumidity: 77.00\n\n3:00 AM\nCelcius: 13.12\nHumidity: 81.00\n\n6:00 AM\nCelcius: 14.54\nHumidity: 66.00\n\n9:00 AM\nCelcius: 19.21\nHumidity: 38.00\n\n12:00 PM\nCelcius: 22.57\nHumidity: 32.00\n\n3:00 PM\nCelcius: 23.23\nHumidity: 38.00\n\n6:00 PM\nCelcius: 21.36\nHumidity: 51.00\n\n9:00 PM\nCelcius: 17.75\nHumidity: 74.00\n\n06/10/2021\n\n12:00 AM\nCelcius: 15.89\nHumidity: 89.00\n\n3:00 AM\nCelcius: 14.55\nHumidity: 93.00\n\n6:00 AM\nCelcius: 16.00\nHumidity: 84.00\n\n9:00 AM\nCelcius: 20.46\nHumidity: 65.00\n\n12:00 PM\nCelcius: 21.18\nHumidity: 60.00\n\n3:00 PM\nCelcius: 24.31\nHumidity: 46.00\n\n6:00 PM\nCelcius: 22.02\nHumidity: 61.00\n\n9:00 PM\nCelcius: 18.74\nHumidity: 74.00\n\n06/11/2021\n\n12:00 AM\nCelcius: 17.31\nHumidity: 77.00\n\n3:00 AM\nCelcius: 15.83\nHumidity: 84.00\n\n6:00 AM\nCelcius: 17.65\nHumidity: 81.00\n\n9:00 AM\nCelcius: 22.18\nHumidity: 59.00\n\n12:00 PM\nCelcius: 24.83\nHumidity: 47.00\n\n3:00 PM\nCelcius: 25.19\nHumidity: 46.00\n\n6:00 PM\nCelcius: 23.62\nHumidity: 58.00\n\n9:00 PM\nCelcius: 19.02\nHumidity: 87.00\n\n06/12/2021\n\n12:00 AM\nCelcius: 17.19\nHumidity: 91.00\n\n3:00 AM\nCelcius: 15.94\nHumidity: 89.00\n"
     ]
    }
   ],
   "source": [
    "current_date = ''\n",
    "for item in json_data['list']:        \n",
    "        time = item['dt_txt']\n",
    "        next_date, hour = time.split(' ')\n",
    "\n",
    "        if current_date != next_date:\n",
    "            current_date = next_date\n",
    "            year, month, day = current_date.split('-')\n",
    "            date = {'y': year, 'm': month, 'd': day}\n",
    "            print('\\n{m}/{d}/{y}'.format(**date))\n",
    "                \n",
    "        hour = int(hour[:2])\n",
    "        \n",
    "        if hour < 12:\n",
    "            if hour == 0:\n",
    "                hour = 12\n",
    "            meridiem = 'AM'\n",
    "        else:\n",
    "            if hour > 12:\n",
    "                hour -= 12\n",
    "            meridiem = 'PM'\n",
    "        \n",
    "        print('\\n%i:00 %s' % (hour, meridiem))\n",
    "\n",
    "        # Temperature is measured in Kelvin\n",
    "        temperature = item['main']['temp']\n",
    "        humidity = item[\"main\"][\"humidity\"]                       \n",
    "        print('Celcius: {:.2f}'.format(temperature - 273.15))\n",
    "        print('Humidity: {:.2f}'.format(humidity))        \n",
    "        temps_pred.append(temperature - 273.15)\n",
    "        humidity_pred.append(humidity)"
   ]
  },
  {
   "cell_type": "code",
   "execution_count": 89,
   "metadata": {},
   "outputs": [
    {
     "output_type": "execute_result",
     "data": {
      "text/plain": [
       "    temps  humidities\n",
       "0   14.36          90\n",
       "1   15.94          82\n",
       "2   19.51          65\n",
       "3   20.14          71\n",
       "4   18.72          79\n",
       "5   15.81          90\n",
       "6   14.26          94\n",
       "7   12.47          93\n",
       "8   13.28          75\n",
       "9   17.99          54\n",
       "10  21.27          38\n",
       "11  22.20          39\n",
       "12  20.71          47\n",
       "13  16.82          68\n",
       "14  15.08          77\n",
       "15  13.12          81\n",
       "16  14.54          66\n",
       "17  19.21          38\n",
       "18  22.57          32\n",
       "19  23.23          38\n",
       "20  21.36          51\n",
       "21  17.75          74\n",
       "22  15.89          89\n",
       "23  14.55          93\n",
       "24  16.00          84\n",
       "25  20.46          65\n",
       "26  21.18          60\n",
       "27  24.31          46\n",
       "28  22.02          61\n",
       "29  18.74          74\n",
       "30  17.31          77\n",
       "31  15.83          84\n",
       "32  17.65          81\n",
       "33  22.18          59\n",
       "34  24.83          47\n",
       "35  25.19          46\n",
       "36  23.62          58\n",
       "37  19.02          87\n",
       "38  17.19          91\n",
       "39  15.94          89"
      ],
      "text/html": "<div>\n<style scoped>\n    .dataframe tbody tr th:only-of-type {\n        vertical-align: middle;\n    }\n\n    .dataframe tbody tr th {\n        vertical-align: top;\n    }\n\n    .dataframe thead th {\n        text-align: right;\n    }\n</style>\n<table border=\"1\" class=\"dataframe\">\n  <thead>\n    <tr style=\"text-align: right;\">\n      <th></th>\n      <th>temps</th>\n      <th>humidities</th>\n    </tr>\n  </thead>\n  <tbody>\n    <tr>\n      <th>0</th>\n      <td>14.36</td>\n      <td>90</td>\n    </tr>\n    <tr>\n      <th>1</th>\n      <td>15.94</td>\n      <td>82</td>\n    </tr>\n    <tr>\n      <th>2</th>\n      <td>19.51</td>\n      <td>65</td>\n    </tr>\n    <tr>\n      <th>3</th>\n      <td>20.14</td>\n      <td>71</td>\n    </tr>\n    <tr>\n      <th>4</th>\n      <td>18.72</td>\n      <td>79</td>\n    </tr>\n    <tr>\n      <th>5</th>\n      <td>15.81</td>\n      <td>90</td>\n    </tr>\n    <tr>\n      <th>6</th>\n      <td>14.26</td>\n      <td>94</td>\n    </tr>\n    <tr>\n      <th>7</th>\n      <td>12.47</td>\n      <td>93</td>\n    </tr>\n    <tr>\n      <th>8</th>\n      <td>13.28</td>\n      <td>75</td>\n    </tr>\n    <tr>\n      <th>9</th>\n      <td>17.99</td>\n      <td>54</td>\n    </tr>\n    <tr>\n      <th>10</th>\n      <td>21.27</td>\n      <td>38</td>\n    </tr>\n    <tr>\n      <th>11</th>\n      <td>22.20</td>\n      <td>39</td>\n    </tr>\n    <tr>\n      <th>12</th>\n      <td>20.71</td>\n      <td>47</td>\n    </tr>\n    <tr>\n      <th>13</th>\n      <td>16.82</td>\n      <td>68</td>\n    </tr>\n    <tr>\n      <th>14</th>\n      <td>15.08</td>\n      <td>77</td>\n    </tr>\n    <tr>\n      <th>15</th>\n      <td>13.12</td>\n      <td>81</td>\n    </tr>\n    <tr>\n      <th>16</th>\n      <td>14.54</td>\n      <td>66</td>\n    </tr>\n    <tr>\n      <th>17</th>\n      <td>19.21</td>\n      <td>38</td>\n    </tr>\n    <tr>\n      <th>18</th>\n      <td>22.57</td>\n      <td>32</td>\n    </tr>\n    <tr>\n      <th>19</th>\n      <td>23.23</td>\n      <td>38</td>\n    </tr>\n    <tr>\n      <th>20</th>\n      <td>21.36</td>\n      <td>51</td>\n    </tr>\n    <tr>\n      <th>21</th>\n      <td>17.75</td>\n      <td>74</td>\n    </tr>\n    <tr>\n      <th>22</th>\n      <td>15.89</td>\n      <td>89</td>\n    </tr>\n    <tr>\n      <th>23</th>\n      <td>14.55</td>\n      <td>93</td>\n    </tr>\n    <tr>\n      <th>24</th>\n      <td>16.00</td>\n      <td>84</td>\n    </tr>\n    <tr>\n      <th>25</th>\n      <td>20.46</td>\n      <td>65</td>\n    </tr>\n    <tr>\n      <th>26</th>\n      <td>21.18</td>\n      <td>60</td>\n    </tr>\n    <tr>\n      <th>27</th>\n      <td>24.31</td>\n      <td>46</td>\n    </tr>\n    <tr>\n      <th>28</th>\n      <td>22.02</td>\n      <td>61</td>\n    </tr>\n    <tr>\n      <th>29</th>\n      <td>18.74</td>\n      <td>74</td>\n    </tr>\n    <tr>\n      <th>30</th>\n      <td>17.31</td>\n      <td>77</td>\n    </tr>\n    <tr>\n      <th>31</th>\n      <td>15.83</td>\n      <td>84</td>\n    </tr>\n    <tr>\n      <th>32</th>\n      <td>17.65</td>\n      <td>81</td>\n    </tr>\n    <tr>\n      <th>33</th>\n      <td>22.18</td>\n      <td>59</td>\n    </tr>\n    <tr>\n      <th>34</th>\n      <td>24.83</td>\n      <td>47</td>\n    </tr>\n    <tr>\n      <th>35</th>\n      <td>25.19</td>\n      <td>46</td>\n    </tr>\n    <tr>\n      <th>36</th>\n      <td>23.62</td>\n      <td>58</td>\n    </tr>\n    <tr>\n      <th>37</th>\n      <td>19.02</td>\n      <td>87</td>\n    </tr>\n    <tr>\n      <th>38</th>\n      <td>17.19</td>\n      <td>91</td>\n    </tr>\n    <tr>\n      <th>39</th>\n      <td>15.94</td>\n      <td>89</td>\n    </tr>\n  </tbody>\n</table>\n</div>"
     },
     "metadata": {},
     "execution_count": 89
    }
   ],
   "source": [
    "df = pd.DataFrame(list(zip(temps_pred, humidity_pred)), columns =['temps', 'humidities'])\n",
    "df"
   ]
  },
  {
   "cell_type": "code",
   "execution_count": 90,
   "metadata": {},
   "outputs": [
    {
     "output_type": "display_data",
     "data": {
      "text/plain": "<Figure size 432x288 with 1 Axes>",
      "image/svg+xml": "<?xml version=\"1.0\" encoding=\"utf-8\" standalone=\"no\"?>\r\n<!DOCTYPE svg PUBLIC \"-//W3C//DTD SVG 1.1//EN\"\r\n  \"http://www.w3.org/Graphics/SVG/1.1/DTD/svg11.dtd\">\r\n<svg height=\"248.518125pt\" version=\"1.1\" viewBox=\"0 0 368.925 248.518125\" width=\"368.925pt\" xmlns=\"http://www.w3.org/2000/svg\" xmlns:xlink=\"http://www.w3.org/1999/xlink\">\r\n <metadata>\r\n  <rdf:RDF xmlns:cc=\"http://creativecommons.org/ns#\" xmlns:dc=\"http://purl.org/dc/elements/1.1/\" xmlns:rdf=\"http://www.w3.org/1999/02/22-rdf-syntax-ns#\">\r\n   <cc:Work>\r\n    <dc:type rdf:resource=\"http://purl.org/dc/dcmitype/StillImage\"/>\r\n    <dc:date>2021-06-07T08:43:19.572094</dc:date>\r\n    <dc:format>image/svg+xml</dc:format>\r\n    <dc:creator>\r\n     <cc:Agent>\r\n      <dc:title>Matplotlib v3.4.2, https://matplotlib.org/</dc:title>\r\n     </cc:Agent>\r\n    </dc:creator>\r\n   </cc:Work>\r\n  </rdf:RDF>\r\n </metadata>\r\n <defs>\r\n  <style type=\"text/css\">*{stroke-linecap:butt;stroke-linejoin:round;}</style>\r\n </defs>\r\n <g id=\"figure_1\">\r\n  <g id=\"patch_1\">\r\n   <path d=\"M -0 248.518125 \r\nL 368.925 248.518125 \r\nL 368.925 0 \r\nL -0 0 \r\nz\r\n\" style=\"fill:none;\"/>\r\n  </g>\r\n  <g id=\"axes_1\">\r\n   <g id=\"patch_2\">\r\n    <path d=\"M 26.925 224.64 \r\nL 361.725 224.64 \r\nL 361.725 7.2 \r\nL 26.925 7.2 \r\nz\r\n\" style=\"fill:#ffffff;\"/>\r\n   </g>\r\n   <g id=\"matplotlib.axis_1\">\r\n    <g id=\"xtick_1\">\r\n     <g id=\"line2d_1\">\r\n      <defs>\r\n       <path d=\"M 0 0 \r\nL 0 3.5 \r\n\" id=\"m02d9fd86a7\" style=\"stroke:#000000;stroke-width:0.8;\"/>\r\n      </defs>\r\n      <g>\r\n       <use style=\"stroke:#000000;stroke-width:0.8;\" x=\"42.143182\" xlink:href=\"#m02d9fd86a7\" y=\"224.64\"/>\r\n      </g>\r\n     </g>\r\n     <g id=\"text_1\">\r\n      <!-- 0 -->\r\n      <g transform=\"translate(38.961932 239.238437)scale(0.1 -0.1)\">\r\n       <defs>\r\n        <path d=\"M 2034 4250 \r\nQ 1547 4250 1301 3770 \r\nQ 1056 3291 1056 2328 \r\nQ 1056 1369 1301 889 \r\nQ 1547 409 2034 409 \r\nQ 2525 409 2770 889 \r\nQ 3016 1369 3016 2328 \r\nQ 3016 3291 2770 3770 \r\nQ 2525 4250 2034 4250 \r\nz\r\nM 2034 4750 \r\nQ 2819 4750 3233 4129 \r\nQ 3647 3509 3647 2328 \r\nQ 3647 1150 3233 529 \r\nQ 2819 -91 2034 -91 \r\nQ 1250 -91 836 529 \r\nQ 422 1150 422 2328 \r\nQ 422 3509 836 4129 \r\nQ 1250 4750 2034 4750 \r\nz\r\n\" id=\"DejaVuSans-30\" transform=\"scale(0.015625)\"/>\r\n       </defs>\r\n       <use xlink:href=\"#DejaVuSans-30\"/>\r\n      </g>\r\n     </g>\r\n    </g>\r\n    <g id=\"xtick_2\">\r\n     <g id=\"line2d_2\">\r\n      <g>\r\n       <use style=\"stroke:#000000;stroke-width:0.8;\" x=\"81.164161\" xlink:href=\"#m02d9fd86a7\" y=\"224.64\"/>\r\n      </g>\r\n     </g>\r\n     <g id=\"text_2\">\r\n      <!-- 5 -->\r\n      <g transform=\"translate(77.982911 239.238437)scale(0.1 -0.1)\">\r\n       <defs>\r\n        <path d=\"M 691 4666 \r\nL 3169 4666 \r\nL 3169 4134 \r\nL 1269 4134 \r\nL 1269 2991 \r\nQ 1406 3038 1543 3061 \r\nQ 1681 3084 1819 3084 \r\nQ 2600 3084 3056 2656 \r\nQ 3513 2228 3513 1497 \r\nQ 3513 744 3044 326 \r\nQ 2575 -91 1722 -91 \r\nQ 1428 -91 1123 -41 \r\nQ 819 9 494 109 \r\nL 494 744 \r\nQ 775 591 1075 516 \r\nQ 1375 441 1709 441 \r\nQ 2250 441 2565 725 \r\nQ 2881 1009 2881 1497 \r\nQ 2881 1984 2565 2268 \r\nQ 2250 2553 1709 2553 \r\nQ 1456 2553 1204 2497 \r\nQ 953 2441 691 2322 \r\nL 691 4666 \r\nz\r\n\" id=\"DejaVuSans-35\" transform=\"scale(0.015625)\"/>\r\n       </defs>\r\n       <use xlink:href=\"#DejaVuSans-35\"/>\r\n      </g>\r\n     </g>\r\n    </g>\r\n    <g id=\"xtick_3\">\r\n     <g id=\"line2d_3\">\r\n      <g>\r\n       <use style=\"stroke:#000000;stroke-width:0.8;\" x=\"120.18514\" xlink:href=\"#m02d9fd86a7\" y=\"224.64\"/>\r\n      </g>\r\n     </g>\r\n     <g id=\"text_3\">\r\n      <!-- 10 -->\r\n      <g transform=\"translate(113.82264 239.238437)scale(0.1 -0.1)\">\r\n       <defs>\r\n        <path d=\"M 794 531 \r\nL 1825 531 \r\nL 1825 4091 \r\nL 703 3866 \r\nL 703 4441 \r\nL 1819 4666 \r\nL 2450 4666 \r\nL 2450 531 \r\nL 3481 531 \r\nL 3481 0 \r\nL 794 0 \r\nL 794 531 \r\nz\r\n\" id=\"DejaVuSans-31\" transform=\"scale(0.015625)\"/>\r\n       </defs>\r\n       <use xlink:href=\"#DejaVuSans-31\"/>\r\n       <use x=\"63.623047\" xlink:href=\"#DejaVuSans-30\"/>\r\n      </g>\r\n     </g>\r\n    </g>\r\n    <g id=\"xtick_4\">\r\n     <g id=\"line2d_4\">\r\n      <g>\r\n       <use style=\"stroke:#000000;stroke-width:0.8;\" x=\"159.206119\" xlink:href=\"#m02d9fd86a7\" y=\"224.64\"/>\r\n      </g>\r\n     </g>\r\n     <g id=\"text_4\">\r\n      <!-- 15 -->\r\n      <g transform=\"translate(152.843619 239.238437)scale(0.1 -0.1)\">\r\n       <use xlink:href=\"#DejaVuSans-31\"/>\r\n       <use x=\"63.623047\" xlink:href=\"#DejaVuSans-35\"/>\r\n      </g>\r\n     </g>\r\n    </g>\r\n    <g id=\"xtick_5\">\r\n     <g id=\"line2d_5\">\r\n      <g>\r\n       <use style=\"stroke:#000000;stroke-width:0.8;\" x=\"198.227098\" xlink:href=\"#m02d9fd86a7\" y=\"224.64\"/>\r\n      </g>\r\n     </g>\r\n     <g id=\"text_5\">\r\n      <!-- 20 -->\r\n      <g transform=\"translate(191.864598 239.238437)scale(0.1 -0.1)\">\r\n       <defs>\r\n        <path d=\"M 1228 531 \r\nL 3431 531 \r\nL 3431 0 \r\nL 469 0 \r\nL 469 531 \r\nQ 828 903 1448 1529 \r\nQ 2069 2156 2228 2338 \r\nQ 2531 2678 2651 2914 \r\nQ 2772 3150 2772 3378 \r\nQ 2772 3750 2511 3984 \r\nQ 2250 4219 1831 4219 \r\nQ 1534 4219 1204 4116 \r\nQ 875 4013 500 3803 \r\nL 500 4441 \r\nQ 881 4594 1212 4672 \r\nQ 1544 4750 1819 4750 \r\nQ 2544 4750 2975 4387 \r\nQ 3406 4025 3406 3419 \r\nQ 3406 3131 3298 2873 \r\nQ 3191 2616 2906 2266 \r\nQ 2828 2175 2409 1742 \r\nQ 1991 1309 1228 531 \r\nz\r\n\" id=\"DejaVuSans-32\" transform=\"scale(0.015625)\"/>\r\n       </defs>\r\n       <use xlink:href=\"#DejaVuSans-32\"/>\r\n       <use x=\"63.623047\" xlink:href=\"#DejaVuSans-30\"/>\r\n      </g>\r\n     </g>\r\n    </g>\r\n    <g id=\"xtick_6\">\r\n     <g id=\"line2d_6\">\r\n      <g>\r\n       <use style=\"stroke:#000000;stroke-width:0.8;\" x=\"237.248077\" xlink:href=\"#m02d9fd86a7\" y=\"224.64\"/>\r\n      </g>\r\n     </g>\r\n     <g id=\"text_6\">\r\n      <!-- 25 -->\r\n      <g transform=\"translate(230.885577 239.238437)scale(0.1 -0.1)\">\r\n       <use xlink:href=\"#DejaVuSans-32\"/>\r\n       <use x=\"63.623047\" xlink:href=\"#DejaVuSans-35\"/>\r\n      </g>\r\n     </g>\r\n    </g>\r\n    <g id=\"xtick_7\">\r\n     <g id=\"line2d_7\">\r\n      <g>\r\n       <use style=\"stroke:#000000;stroke-width:0.8;\" x=\"276.269056\" xlink:href=\"#m02d9fd86a7\" y=\"224.64\"/>\r\n      </g>\r\n     </g>\r\n     <g id=\"text_7\">\r\n      <!-- 30 -->\r\n      <g transform=\"translate(269.906556 239.238437)scale(0.1 -0.1)\">\r\n       <defs>\r\n        <path d=\"M 2597 2516 \r\nQ 3050 2419 3304 2112 \r\nQ 3559 1806 3559 1356 \r\nQ 3559 666 3084 287 \r\nQ 2609 -91 1734 -91 \r\nQ 1441 -91 1130 -33 \r\nQ 819 25 488 141 \r\nL 488 750 \r\nQ 750 597 1062 519 \r\nQ 1375 441 1716 441 \r\nQ 2309 441 2620 675 \r\nQ 2931 909 2931 1356 \r\nQ 2931 1769 2642 2001 \r\nQ 2353 2234 1838 2234 \r\nL 1294 2234 \r\nL 1294 2753 \r\nL 1863 2753 \r\nQ 2328 2753 2575 2939 \r\nQ 2822 3125 2822 3475 \r\nQ 2822 3834 2567 4026 \r\nQ 2313 4219 1838 4219 \r\nQ 1578 4219 1281 4162 \r\nQ 984 4106 628 3988 \r\nL 628 4550 \r\nQ 988 4650 1302 4700 \r\nQ 1616 4750 1894 4750 \r\nQ 2613 4750 3031 4423 \r\nQ 3450 4097 3450 3541 \r\nQ 3450 3153 3228 2886 \r\nQ 3006 2619 2597 2516 \r\nz\r\n\" id=\"DejaVuSans-33\" transform=\"scale(0.015625)\"/>\r\n       </defs>\r\n       <use xlink:href=\"#DejaVuSans-33\"/>\r\n       <use x=\"63.623047\" xlink:href=\"#DejaVuSans-30\"/>\r\n      </g>\r\n     </g>\r\n    </g>\r\n    <g id=\"xtick_8\">\r\n     <g id=\"line2d_8\">\r\n      <g>\r\n       <use style=\"stroke:#000000;stroke-width:0.8;\" x=\"315.290035\" xlink:href=\"#m02d9fd86a7\" y=\"224.64\"/>\r\n      </g>\r\n     </g>\r\n     <g id=\"text_8\">\r\n      <!-- 35 -->\r\n      <g transform=\"translate(308.927535 239.238437)scale(0.1 -0.1)\">\r\n       <use xlink:href=\"#DejaVuSans-33\"/>\r\n       <use x=\"63.623047\" xlink:href=\"#DejaVuSans-35\"/>\r\n      </g>\r\n     </g>\r\n    </g>\r\n    <g id=\"xtick_9\">\r\n     <g id=\"line2d_9\">\r\n      <g>\r\n       <use style=\"stroke:#000000;stroke-width:0.8;\" x=\"354.311014\" xlink:href=\"#m02d9fd86a7\" y=\"224.64\"/>\r\n      </g>\r\n     </g>\r\n     <g id=\"text_9\">\r\n      <!-- 40 -->\r\n      <g transform=\"translate(347.948514 239.238437)scale(0.1 -0.1)\">\r\n       <defs>\r\n        <path d=\"M 2419 4116 \r\nL 825 1625 \r\nL 2419 1625 \r\nL 2419 4116 \r\nz\r\nM 2253 4666 \r\nL 3047 4666 \r\nL 3047 1625 \r\nL 3713 1625 \r\nL 3713 1100 \r\nL 3047 1100 \r\nL 3047 0 \r\nL 2419 0 \r\nL 2419 1100 \r\nL 313 1100 \r\nL 313 1709 \r\nL 2253 4666 \r\nz\r\n\" id=\"DejaVuSans-34\" transform=\"scale(0.015625)\"/>\r\n       </defs>\r\n       <use xlink:href=\"#DejaVuSans-34\"/>\r\n       <use x=\"63.623047\" xlink:href=\"#DejaVuSans-30\"/>\r\n      </g>\r\n     </g>\r\n    </g>\r\n   </g>\r\n   <g id=\"matplotlib.axis_2\">\r\n    <g id=\"ytick_1\">\r\n     <g id=\"line2d_10\">\r\n      <defs>\r\n       <path d=\"M 0 0 \r\nL -3.5 0 \r\n\" id=\"ma94a19dd9a\" style=\"stroke:#000000;stroke-width:0.8;\"/>\r\n      </defs>\r\n      <g>\r\n       <use style=\"stroke:#000000;stroke-width:0.8;\" x=\"26.925\" xlink:href=\"#ma94a19dd9a\" y=\"220.744977\"/>\r\n      </g>\r\n     </g>\r\n     <g id=\"text_10\">\r\n      <!-- 10 -->\r\n      <g transform=\"translate(7.2 224.544196)scale(0.1 -0.1)\">\r\n       <use xlink:href=\"#DejaVuSans-31\"/>\r\n       <use x=\"63.623047\" xlink:href=\"#DejaVuSans-30\"/>\r\n      </g>\r\n     </g>\r\n    </g>\r\n    <g id=\"ytick_2\">\r\n     <g id=\"line2d_11\">\r\n      <g>\r\n       <use style=\"stroke:#000000;stroke-width:0.8;\" x=\"26.925\" xlink:href=\"#ma94a19dd9a\" y=\"196.499579\"/>\r\n      </g>\r\n     </g>\r\n     <g id=\"text_11\">\r\n      <!-- 20 -->\r\n      <g transform=\"translate(7.2 200.298798)scale(0.1 -0.1)\">\r\n       <use xlink:href=\"#DejaVuSans-32\"/>\r\n       <use x=\"63.623047\" xlink:href=\"#DejaVuSans-30\"/>\r\n      </g>\r\n     </g>\r\n    </g>\r\n    <g id=\"ytick_3\">\r\n     <g id=\"line2d_12\">\r\n      <g>\r\n       <use style=\"stroke:#000000;stroke-width:0.8;\" x=\"26.925\" xlink:href=\"#ma94a19dd9a\" y=\"172.254182\"/>\r\n      </g>\r\n     </g>\r\n     <g id=\"text_12\">\r\n      <!-- 30 -->\r\n      <g transform=\"translate(7.2 176.0534)scale(0.1 -0.1)\">\r\n       <use xlink:href=\"#DejaVuSans-33\"/>\r\n       <use x=\"63.623047\" xlink:href=\"#DejaVuSans-30\"/>\r\n      </g>\r\n     </g>\r\n    </g>\r\n    <g id=\"ytick_4\">\r\n     <g id=\"line2d_13\">\r\n      <g>\r\n       <use style=\"stroke:#000000;stroke-width:0.8;\" x=\"26.925\" xlink:href=\"#ma94a19dd9a\" y=\"148.008784\"/>\r\n      </g>\r\n     </g>\r\n     <g id=\"text_13\">\r\n      <!-- 40 -->\r\n      <g transform=\"translate(7.2 151.808003)scale(0.1 -0.1)\">\r\n       <use xlink:href=\"#DejaVuSans-34\"/>\r\n       <use x=\"63.623047\" xlink:href=\"#DejaVuSans-30\"/>\r\n      </g>\r\n     </g>\r\n    </g>\r\n    <g id=\"ytick_5\">\r\n     <g id=\"line2d_14\">\r\n      <g>\r\n       <use style=\"stroke:#000000;stroke-width:0.8;\" x=\"26.925\" xlink:href=\"#ma94a19dd9a\" y=\"123.763386\"/>\r\n      </g>\r\n     </g>\r\n     <g id=\"text_14\">\r\n      <!-- 50 -->\r\n      <g transform=\"translate(7.2 127.562605)scale(0.1 -0.1)\">\r\n       <use xlink:href=\"#DejaVuSans-35\"/>\r\n       <use x=\"63.623047\" xlink:href=\"#DejaVuSans-30\"/>\r\n      </g>\r\n     </g>\r\n    </g>\r\n    <g id=\"ytick_6\">\r\n     <g id=\"line2d_15\">\r\n      <g>\r\n       <use style=\"stroke:#000000;stroke-width:0.8;\" x=\"26.925\" xlink:href=\"#ma94a19dd9a\" y=\"99.517988\"/>\r\n      </g>\r\n     </g>\r\n     <g id=\"text_15\">\r\n      <!-- 60 -->\r\n      <g transform=\"translate(7.2 103.317207)scale(0.1 -0.1)\">\r\n       <defs>\r\n        <path d=\"M 2113 2584 \r\nQ 1688 2584 1439 2293 \r\nQ 1191 2003 1191 1497 \r\nQ 1191 994 1439 701 \r\nQ 1688 409 2113 409 \r\nQ 2538 409 2786 701 \r\nQ 3034 994 3034 1497 \r\nQ 3034 2003 2786 2293 \r\nQ 2538 2584 2113 2584 \r\nz\r\nM 3366 4563 \r\nL 3366 3988 \r\nQ 3128 4100 2886 4159 \r\nQ 2644 4219 2406 4219 \r\nQ 1781 4219 1451 3797 \r\nQ 1122 3375 1075 2522 \r\nQ 1259 2794 1537 2939 \r\nQ 1816 3084 2150 3084 \r\nQ 2853 3084 3261 2657 \r\nQ 3669 2231 3669 1497 \r\nQ 3669 778 3244 343 \r\nQ 2819 -91 2113 -91 \r\nQ 1303 -91 875 529 \r\nQ 447 1150 447 2328 \r\nQ 447 3434 972 4092 \r\nQ 1497 4750 2381 4750 \r\nQ 2619 4750 2861 4703 \r\nQ 3103 4656 3366 4563 \r\nz\r\n\" id=\"DejaVuSans-36\" transform=\"scale(0.015625)\"/>\r\n       </defs>\r\n       <use xlink:href=\"#DejaVuSans-36\"/>\r\n       <use x=\"63.623047\" xlink:href=\"#DejaVuSans-30\"/>\r\n      </g>\r\n     </g>\r\n    </g>\r\n    <g id=\"ytick_7\">\r\n     <g id=\"line2d_16\">\r\n      <g>\r\n       <use style=\"stroke:#000000;stroke-width:0.8;\" x=\"26.925\" xlink:href=\"#ma94a19dd9a\" y=\"75.272591\"/>\r\n      </g>\r\n     </g>\r\n     <g id=\"text_16\">\r\n      <!-- 70 -->\r\n      <g transform=\"translate(7.2 79.07181)scale(0.1 -0.1)\">\r\n       <defs>\r\n        <path d=\"M 525 4666 \r\nL 3525 4666 \r\nL 3525 4397 \r\nL 1831 0 \r\nL 1172 0 \r\nL 2766 4134 \r\nL 525 4134 \r\nL 525 4666 \r\nz\r\n\" id=\"DejaVuSans-37\" transform=\"scale(0.015625)\"/>\r\n       </defs>\r\n       <use xlink:href=\"#DejaVuSans-37\"/>\r\n       <use x=\"63.623047\" xlink:href=\"#DejaVuSans-30\"/>\r\n      </g>\r\n     </g>\r\n    </g>\r\n    <g id=\"ytick_8\">\r\n     <g id=\"line2d_17\">\r\n      <g>\r\n       <use style=\"stroke:#000000;stroke-width:0.8;\" x=\"26.925\" xlink:href=\"#ma94a19dd9a\" y=\"51.027193\"/>\r\n      </g>\r\n     </g>\r\n     <g id=\"text_17\">\r\n      <!-- 80 -->\r\n      <g transform=\"translate(7.2 54.826412)scale(0.1 -0.1)\">\r\n       <defs>\r\n        <path d=\"M 2034 2216 \r\nQ 1584 2216 1326 1975 \r\nQ 1069 1734 1069 1313 \r\nQ 1069 891 1326 650 \r\nQ 1584 409 2034 409 \r\nQ 2484 409 2743 651 \r\nQ 3003 894 3003 1313 \r\nQ 3003 1734 2745 1975 \r\nQ 2488 2216 2034 2216 \r\nz\r\nM 1403 2484 \r\nQ 997 2584 770 2862 \r\nQ 544 3141 544 3541 \r\nQ 544 4100 942 4425 \r\nQ 1341 4750 2034 4750 \r\nQ 2731 4750 3128 4425 \r\nQ 3525 4100 3525 3541 \r\nQ 3525 3141 3298 2862 \r\nQ 3072 2584 2669 2484 \r\nQ 3125 2378 3379 2068 \r\nQ 3634 1759 3634 1313 \r\nQ 3634 634 3220 271 \r\nQ 2806 -91 2034 -91 \r\nQ 1263 -91 848 271 \r\nQ 434 634 434 1313 \r\nQ 434 1759 690 2068 \r\nQ 947 2378 1403 2484 \r\nz\r\nM 1172 3481 \r\nQ 1172 3119 1398 2916 \r\nQ 1625 2713 2034 2713 \r\nQ 2441 2713 2670 2916 \r\nQ 2900 3119 2900 3481 \r\nQ 2900 3844 2670 4047 \r\nQ 2441 4250 2034 4250 \r\nQ 1625 4250 1398 4047 \r\nQ 1172 3844 1172 3481 \r\nz\r\n\" id=\"DejaVuSans-38\" transform=\"scale(0.015625)\"/>\r\n       </defs>\r\n       <use xlink:href=\"#DejaVuSans-38\"/>\r\n       <use x=\"63.623047\" xlink:href=\"#DejaVuSans-30\"/>\r\n      </g>\r\n     </g>\r\n    </g>\r\n    <g id=\"ytick_9\">\r\n     <g id=\"line2d_18\">\r\n      <g>\r\n       <use style=\"stroke:#000000;stroke-width:0.8;\" x=\"26.925\" xlink:href=\"#ma94a19dd9a\" y=\"26.781795\"/>\r\n      </g>\r\n     </g>\r\n     <g id=\"text_18\">\r\n      <!-- 90 -->\r\n      <g transform=\"translate(7.2 30.581014)scale(0.1 -0.1)\">\r\n       <defs>\r\n        <path d=\"M 703 97 \r\nL 703 672 \r\nQ 941 559 1184 500 \r\nQ 1428 441 1663 441 \r\nQ 2288 441 2617 861 \r\nQ 2947 1281 2994 2138 \r\nQ 2813 1869 2534 1725 \r\nQ 2256 1581 1919 1581 \r\nQ 1219 1581 811 2004 \r\nQ 403 2428 403 3163 \r\nQ 403 3881 828 4315 \r\nQ 1253 4750 1959 4750 \r\nQ 2769 4750 3195 4129 \r\nQ 3622 3509 3622 2328 \r\nQ 3622 1225 3098 567 \r\nQ 2575 -91 1691 -91 \r\nQ 1453 -91 1209 -44 \r\nQ 966 3 703 97 \r\nz\r\nM 1959 2075 \r\nQ 2384 2075 2632 2365 \r\nQ 2881 2656 2881 3163 \r\nQ 2881 3666 2632 3958 \r\nQ 2384 4250 1959 4250 \r\nQ 1534 4250 1286 3958 \r\nQ 1038 3666 1038 3163 \r\nQ 1038 2656 1286 2365 \r\nQ 1534 2075 1959 2075 \r\nz\r\n\" id=\"DejaVuSans-39\" transform=\"scale(0.015625)\"/>\r\n       </defs>\r\n       <use xlink:href=\"#DejaVuSans-39\"/>\r\n       <use x=\"63.623047\" xlink:href=\"#DejaVuSans-30\"/>\r\n      </g>\r\n     </g>\r\n    </g>\r\n   </g>\r\n   <g id=\"line2d_19\">\r\n    <path clip-path=\"url(#pacd2321759)\" d=\"M 42.143182 210.173983 \r\nL 49.947378 206.343211 \r\nL 57.751573 197.687604 \r\nL 65.555769 196.160144 \r\nL 73.359965 199.60299 \r\nL 81.164161 206.658401 \r\nL 88.968357 210.416437 \r\nL 96.772552 214.756364 \r\nL 104.576748 212.792486 \r\nL 112.380944 201.372904 \r\nL 120.18514 193.420414 \r\nL 127.989336 191.165592 \r\nL 135.793531 194.778156 \r\nL 143.597727 204.209616 \r\nL 151.401923 208.428315 \r\nL 159.206119 213.180413 \r\nL 167.010315 209.737566 \r\nL 174.81451 198.414966 \r\nL 182.618706 190.268512 \r\nL 190.422902 188.668316 \r\nL 198.227098 193.202205 \r\nL 206.031294 201.954794 \r\nL 213.83549 206.464438 \r\nL 221.639685 209.713321 \r\nL 229.443881 206.197738 \r\nL 237.248077 195.384291 \r\nL 245.052273 193.638622 \r\nL 252.856469 186.049813 \r\nL 260.660664 191.602009 \r\nL 268.46486 199.554499 \r\nL 276.269056 203.021591 \r\nL 284.073252 206.60991 \r\nL 291.877448 202.197248 \r\nL 299.681643 191.214082 \r\nL 307.485839 184.789052 \r\nL 315.290035 183.916218 \r\nL 323.094231 187.722745 \r\nL 330.898427 198.875628 \r\nL 338.702622 203.312536 \r\nL 346.506818 206.343211 \r\n\" style=\"fill:none;stroke:#1f77b4;stroke-linecap:square;stroke-width:1.5;\"/>\r\n   </g>\r\n   <g id=\"line2d_20\">\r\n    <path clip-path=\"url(#pacd2321759)\" d=\"M 42.143182 26.781795 \r\nL 49.947378 46.178114 \r\nL 57.751573 87.39529 \r\nL 65.555769 72.848051 \r\nL 73.359965 53.451733 \r\nL 81.164161 26.781795 \r\nL 88.968357 17.083636 \r\nL 96.772552 19.508176 \r\nL 104.576748 63.149892 \r\nL 112.380944 114.065227 \r\nL 120.18514 152.857863 \r\nL 127.989336 150.433324 \r\nL 135.793531 131.037005 \r\nL 143.597727 80.12167 \r\nL 151.401923 58.300812 \r\nL 159.206119 48.602653 \r\nL 167.010315 84.97075 \r\nL 174.81451 152.857863 \r\nL 182.618706 167.405102 \r\nL 190.422902 152.857863 \r\nL 198.227098 121.338846 \r\nL 206.031294 65.574432 \r\nL 213.83549 29.206335 \r\nL 221.639685 19.508176 \r\nL 229.443881 41.329034 \r\nL 237.248077 87.39529 \r\nL 245.052273 99.517988 \r\nL 252.856469 133.461545 \r\nL 260.660664 97.093449 \r\nL 268.46486 65.574432 \r\nL 276.269056 58.300812 \r\nL 284.073252 41.329034 \r\nL 291.877448 48.602653 \r\nL 299.681643 101.942528 \r\nL 307.485839 131.037005 \r\nL 315.290035 133.461545 \r\nL 323.094231 104.367068 \r\nL 330.898427 34.055415 \r\nL 338.702622 24.357256 \r\nL 346.506818 29.206335 \r\n\" style=\"fill:none;stroke:#ff7f0e;stroke-linecap:square;stroke-width:1.5;\"/>\r\n   </g>\r\n   <g id=\"patch_3\">\r\n    <path d=\"M 26.925 224.64 \r\nL 26.925 7.2 \r\n\" style=\"fill:none;stroke:#000000;stroke-linecap:square;stroke-linejoin:miter;stroke-width:0.8;\"/>\r\n   </g>\r\n   <g id=\"patch_4\">\r\n    <path d=\"M 361.725 224.64 \r\nL 361.725 7.2 \r\n\" style=\"fill:none;stroke:#000000;stroke-linecap:square;stroke-linejoin:miter;stroke-width:0.8;\"/>\r\n   </g>\r\n   <g id=\"patch_5\">\r\n    <path d=\"M 26.925 224.64 \r\nL 361.725 224.64 \r\n\" style=\"fill:none;stroke:#000000;stroke-linecap:square;stroke-linejoin:miter;stroke-width:0.8;\"/>\r\n   </g>\r\n   <g id=\"patch_6\">\r\n    <path d=\"M 26.925 7.2 \r\nL 361.725 7.2 \r\n\" style=\"fill:none;stroke:#000000;stroke-linecap:square;stroke-linejoin:miter;stroke-width:0.8;\"/>\r\n   </g>\r\n  </g>\r\n </g>\r\n <defs>\r\n  <clipPath id=\"pacd2321759\">\r\n   <rect height=\"217.44\" width=\"334.8\" x=\"26.925\" y=\"7.2\"/>\r\n  </clipPath>\r\n </defs>\r\n</svg>\r\n",
      "image/png": "[encoded data removed]"
     },
     "metadata": {
      "needs_background": "light"
     }
    }
   ],
   "source": [
    "plt.plot(df)\n",
    "plt.show() "
   ]
  },
  {
   "cell_type": "code",
   "execution_count": 91,
   "metadata": {},
   "outputs": [],
   "source": [
    "############################"
   ]
  },
  {
   "cell_type": "code",
   "execution_count": 92,
   "metadata": {},
   "outputs": [],
   "source": [
    "inf = pd.read_csv(\"infection.csv\")\n",
    "df2 = inf.copy()"
   ]
  },
  {
   "cell_type": "code",
   "execution_count": 93,
   "metadata": {},
   "outputs": [
    {
     "output_type": "execute_result",
     "data": {
      "text/plain": [
       "   temperature  hoursMild  hoursMid  hoursSevere\n",
       "0         25.5       13.0        17           26\n",
       "1         25.0       11.0        14           21\n",
       "2         24.4        9.5        12           19\n",
       "3         23.9        9.0        12           18\n",
       "4         16.7        9.0        12           19"
      ],
      "text/html": "<div>\n<style scoped>\n    .dataframe tbody tr th:only-of-type {\n        vertical-align: middle;\n    }\n\n    .dataframe tbody tr th {\n        vertical-align: top;\n    }\n\n    .dataframe thead th {\n        text-align: right;\n    }\n</style>\n<table border=\"1\" class=\"dataframe\">\n  <thead>\n    <tr style=\"text-align: right;\">\n      <th></th>\n      <th>temperature</th>\n      <th>hoursMild</th>\n      <th>hoursMid</th>\n      <th>hoursSevere</th>\n    </tr>\n  </thead>\n  <tbody>\n    <tr>\n      <th>0</th>\n      <td>25.5</td>\n      <td>13.0</td>\n      <td>17</td>\n      <td>26</td>\n    </tr>\n    <tr>\n      <th>1</th>\n      <td>25.0</td>\n      <td>11.0</td>\n      <td>14</td>\n      <td>21</td>\n    </tr>\n    <tr>\n      <th>2</th>\n      <td>24.4</td>\n      <td>9.5</td>\n      <td>12</td>\n      <td>19</td>\n    </tr>\n    <tr>\n      <th>3</th>\n      <td>23.9</td>\n      <td>9.0</td>\n      <td>12</td>\n      <td>18</td>\n    </tr>\n    <tr>\n      <th>4</th>\n      <td>16.7</td>\n      <td>9.0</td>\n      <td>12</td>\n      <td>19</td>\n    </tr>\n  </tbody>\n</table>\n</div>"
     },
     "metadata": {},
     "execution_count": 93
    }
   ],
   "source": [
    "df2.head()"
   ]
  },
  {
   "cell_type": "code",
   "execution_count": 94,
   "metadata": {},
   "outputs": [],
   "source": [
    "##############################"
   ]
  },
  {
   "cell_type": "code",
   "execution_count": 95,
   "metadata": {},
   "outputs": [],
   "source": [
    "def check_warning(dataframe_prediction, dataframe_infection):\n",
    "    temp = dataframe_infection[\"temperature\"]\n",
    "    mild = dataframe_infection[\"hoursMild\"]\n",
    "    mid = dataframe_infection[\"hoursMid\"]\n",
    "    severe = dataframe_infection[\"hoursSevere\"]\n",
    "    temp_pred = dataframe_prediction[\"temps\"]\n",
    "    hum_pred = dataframe_prediction[\"humidities\"]\n",
    "    for i in range(len(temp_pred)):\n",
    "        for k in range(len(temp)):\n",
    "            if(temp_pred[i] >= temp[k]):\n",
    "                if(hum_pred[i] >= 30):\n",
    "                     print(str(temp_pred[i]) + \" is the predicted temperature and the limit is:  \" +\n",
    "                     str(temp[k]) + \n",
    "                     \" You better decrease humidity or temperature.\" + \n",
    "                     \" Severe damage will happen in : \" + str(severe[k]) + \" hours.\" +\n",
    "                     \" Mid damage will happen in : \" +  str(mid[k]) + \" hours.\" +\n",
    "                     \" Mild damage will happen in : \" + str(mild[k]) + \" hours.\")\n",
    "                     return\n"
   ]
  },
  {
   "cell_type": "code",
   "execution_count": 96,
   "metadata": {},
   "outputs": [
    {
     "output_type": "stream",
     "name": "stdout",
     "text": [
      "14.360000000000014 is the predicted temperature and the limit is:  13.9 You better decrease humidity or temperature. Severe damage will happen in : 22 hours. Mid damage will happen in : 14 hours. Mild damage will happen in : 10.0 hours.\n"
     ]
    }
   ],
   "source": [
    "check_warning(df, df2)"
   ]
  },
  {
   "cell_type": "code",
   "execution_count": null,
   "metadata": {},
   "outputs": [],
   "source": []
  }
 ]
}