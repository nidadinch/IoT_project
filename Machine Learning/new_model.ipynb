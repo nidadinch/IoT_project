{
 "metadata": {
  "language_info": {
   "codemirror_mode": {
    "name": "ipython",
    "version": 3
   },
   "file_extension": ".py",
   "mimetype": "text/x-python",
   "name": "python",
   "nbconvert_exporter": "python",
   "pygments_lexer": "ipython3",
   "version": "3.9.2"
  },
  "orig_nbformat": 2,
  "kernelspec": {
   "name": "python392jvsc74a57bd00409b1909f87639dc7bb84ab305d846b4d5171e43ce4ac622376fcb89a9d6afb",
   "display_name": "Python 3.9.2 64-bit ('venv_3.9.2')"
  }
 },
 "nbformat": 4,
 "nbformat_minor": 2,
 "cells": [
  {
   "cell_type": "code",
   "execution_count": 99,
   "metadata": {},
   "outputs": [],
   "source": [
    "import pandas as pd\n",
    "import numpy as np \n",
    "from sklearn.model_selection import train_test_split, ShuffleSplit, GridSearchCV\n",
    "from sklearn.metrics import mean_squared_error, r2_score\n",
    "from sklearn import model_selection"
   ]
  },
  {
   "cell_type": "code",
   "execution_count": 100,
   "metadata": {},
   "outputs": [],
   "source": [
    "wd = pd.read_csv(\"weather_data.csv\", error_bad_lines=False)\n",
    "df_wd = wd.copy()\n",
    "df_wd = df_wd.dropna()\n",
    "df_wd = df_wd.drop([\"LAT\", \"LON\", \"YEAR\"], axis = 1)"
   ]
  },
  {
   "cell_type": "code",
   "execution_count": 101,
   "metadata": {},
   "outputs": [
    {
     "output_type": "execute_result",
     "data": {
      "text/plain": [
       "   MO  DY  T2M_MAX  T2M_MIN   T2M\n",
       "0   1   1    11.84    -0.24  6.13\n",
       "1   1   2    13.78     3.74  7.89\n",
       "2   1   3     6.90     1.20  3.35\n",
       "3   1   4     2.67    -4.31 -0.11\n",
       "4   1   5     3.17    -4.42 -1.90"
      ],
      "text/html": "<div>\n<style scoped>\n    .dataframe tbody tr th:only-of-type {\n        vertical-align: middle;\n    }\n\n    .dataframe tbody tr th {\n        vertical-align: top;\n    }\n\n    .dataframe thead th {\n        text-align: right;\n    }\n</style>\n<table border=\"1\" class=\"dataframe\">\n  <thead>\n    <tr style=\"text-align: right;\">\n      <th></th>\n      <th>MO</th>\n      <th>DY</th>\n      <th>T2M_MAX</th>\n      <th>T2M_MIN</th>\n      <th>T2M</th>\n    </tr>\n  </thead>\n  <tbody>\n    <tr>\n      <th>0</th>\n      <td>1</td>\n      <td>1</td>\n      <td>11.84</td>\n      <td>-0.24</td>\n      <td>6.13</td>\n    </tr>\n    <tr>\n      <th>1</th>\n      <td>1</td>\n      <td>2</td>\n      <td>13.78</td>\n      <td>3.74</td>\n      <td>7.89</td>\n    </tr>\n    <tr>\n      <th>2</th>\n      <td>1</td>\n      <td>3</td>\n      <td>6.90</td>\n      <td>1.20</td>\n      <td>3.35</td>\n    </tr>\n    <tr>\n      <th>3</th>\n      <td>1</td>\n      <td>4</td>\n      <td>2.67</td>\n      <td>-4.31</td>\n      <td>-0.11</td>\n    </tr>\n    <tr>\n      <th>4</th>\n      <td>1</td>\n      <td>5</td>\n      <td>3.17</td>\n      <td>-4.42</td>\n      <td>-1.90</td>\n    </tr>\n  </tbody>\n</table>\n</div>"
     },
     "metadata": {},
     "execution_count": 101
    }
   ],
   "source": [
    "df_wd.head()"
   ]
  },
  {
   "cell_type": "code",
   "execution_count": 102,
   "metadata": {},
   "outputs": [],
   "source": [
    "## target value to predict (dependent value)\n",
    "y = df_wd[[\"T2M\"]]"
   ]
  },
  {
   "cell_type": "code",
   "execution_count": 103,
   "metadata": {},
   "outputs": [],
   "source": [
    "## independent values to let us predict dependent value\n",
    "X = df_wd[[\"T2M_MAX\", \"T2M_MIN\"]]"
   ]
  },
  {
   "cell_type": "code",
   "execution_count": 104,
   "metadata": {},
   "outputs": [],
   "source": [
    "## splitting the dataset to train and test\n",
    "X_train, X_test, y_train, y_test = train_test_split(X, y, test_size=0.25, random_state=42)"
   ]
  },
  {
   "cell_type": "code",
   "execution_count": 105,
   "metadata": {},
   "outputs": [],
   "source": [
    "from sklearn.ensemble import RandomForestRegressor"
   ]
  },
  {
   "cell_type": "code",
   "execution_count": 106,
   "metadata": {},
   "outputs": [],
   "source": [
    "## pointing out the model type\n",
    "rf_model = RandomForestRegressor(random_state = 42)"
   ]
  },
  {
   "cell_type": "code",
   "execution_count": 107,
   "metadata": {},
   "outputs": [
    {
     "output_type": "execute_result",
     "data": {
      "text/plain": [
       "RandomForestRegressor(random_state=42)"
      ]
     },
     "metadata": {},
     "execution_count": 107
    }
   ],
   "source": [
    "## training the model\n",
    "rf_model.fit(X_train, y_train.values.ravel())"
   ]
  },
  {
   "cell_type": "code",
   "execution_count": 108,
   "metadata": {},
   "outputs": [
    {
     "output_type": "execute_result",
     "data": {
      "text/plain": [
       "array([22.2234, 20.9297, 10.8036,  0.5801,  3.9522])"
      ]
     },
     "metadata": {},
     "execution_count": 108
    }
   ],
   "source": [
    "## testing the model and showing 5 values tested (showing is to check if there is any non-logic error)\n",
    "rf_model.predict(X_test)[0:5]"
   ]
  },
  {
   "cell_type": "code",
   "execution_count": 109,
   "metadata": {},
   "outputs": [],
   "source": [
    "## calculating predicted y values\n",
    "y_pred = rf_model.predict(X_test)"
   ]
  },
  {
   "cell_type": "code",
   "execution_count": 110,
   "metadata": {},
   "outputs": [
    {
     "output_type": "execute_result",
     "data": {
      "text/plain": [
       "0.5649711786959688"
      ]
     },
     "metadata": {},
     "execution_count": 110
    }
   ],
   "source": [
    "## RMSE of the model (train error)\n",
    "np.sqrt(mean_squared_error(y_test, y_pred))"
   ]
  }
 ]
}